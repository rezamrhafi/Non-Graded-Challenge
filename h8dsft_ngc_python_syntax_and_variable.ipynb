{
 "cells": [
  {
   "cell_type": "markdown",
   "metadata": {},
   "source": [
    "# Task 1"
   ]
  },
  {
   "cell_type": "code",
   "execution_count": null,
   "metadata": {},
   "outputs": [],
   "source": [
    "\n",
    "costumer_id = [ 'B818', 'A461', 'A092', 'A082', 'B341', 'A005', 'A092', \n",
    "               'A461','B219', 'B904', 'A901', 'A083', 'B904', 'A092',\n",
    "                 'B341', 'B821','B341', 'B821', 'B904', 'B818', 'A901', 'A083', 'B818', \n",
    "                 'A082','B219', 'B219', 'A083', 'A901', 'A082', 'B341', 'B341', 'A083',\n",
    "                 'A082', 'B219', 'B439', 'A461', 'A005', 'A901', 'B341', 'A082','A083', 'A461', 'A083', 'A901', \n",
    "                 'A461', 'A083', 'A082', 'A083','B341', 'A901', 'A082', 'A461', 'B219', 'A083', 'B818', 'B821',\n",
    "                 'A092', 'B341', 'A461', 'A092', 'A083', 'B821', 'A092']\n",
    "\n",
    "new_list = []\n",
    "\n",
    "for value in costumer_id:\n",
    "  if value not in new_list:\n",
    "    new_list.append(value)\n",
    "\n",
    "count1 = 0\n",
    "\n",
    "for item in new_list:\n",
    "    count1 += 1\n",
    "\n",
    "print(count1)"
   ]
  },
  {
   "cell_type": "markdown",
   "metadata": {},
   "source": [
    "# Task 2"
   ]
  },
  {
   "cell_type": "code",
   "execution_count": null,
   "metadata": {},
   "outputs": [],
   "source": [
    "Data = [1, 4, 9, 16, 25, 36, 49,  64, 81, 100]\n",
    "\n",
    "print(Data[3])\n",
    "\n",
    "print(Data[5:-1])\n",
    "\n",
    "print(Data[::-1])"
   ]
  },
  {
   "cell_type": "markdown",
   "metadata": {},
   "source": [
    "# Task 3"
   ]
  },
  {
   "cell_type": "code",
   "execution_count": null,
   "metadata": {},
   "outputs": [],
   "source": [
    "provinsi = {'Nanggroe Aceh Darussalam': 'Aceh',\n",
    "            'Sumatera Selatan': 'Palembang',\n",
    "            'Kalimantan Barat': 'Pontianak','Jawa Timur': 'Madiun',\n",
    "            'Sulawesi Selatan': 'Makassar','Maluku': 'Ambon'}\n",
    "\n",
    "\n",
    "print(provinsi.keys())\n",
    "print()\n",
    "\n",
    "provinsi['Jawa Timur'] = 'Surabaya'\n",
    "\n",
    "print(provinsi)\n",
    "\n"
   ]
  }
 ],
 "metadata": {
  "language_info": {
   "name": "python"
  }
 },
 "nbformat": 4,
 "nbformat_minor": 2
}
